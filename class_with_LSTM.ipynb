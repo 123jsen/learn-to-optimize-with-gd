{
 "cells": [
  {
   "cell_type": "markdown",
   "metadata": {},
   "source": [
    "# Purpose\n",
    "This code trains a classification network using the LSTM optimizer"
   ]
  },
  {
   "cell_type": "code",
   "execution_count": null,
   "metadata": {},
   "outputs": [],
   "source": [
    "import torch\n",
    "from torch import nn\n",
    "from torch.utils.data import DataLoader\n",
    "\n",
    "from torchvision import datasets\n",
    "from torchvision.transforms import ToTensor\n",
    "\n",
    "from models.l2o_optimizer import lstm_l2o_optimizer\n",
    "\n",
    "from models.class_network import class_net"
   ]
  },
  {
   "cell_type": "code",
   "execution_count": null,
   "metadata": {},
   "outputs": [],
   "source": [
    "# Get cpu or gpu device for training.\n",
    "device = \"cuda\" if torch.cuda.is_available() else \"cpu\"\n",
    "print(f\"Using {device} device\")"
   ]
  },
  {
   "cell_type": "code",
   "execution_count": null,
   "metadata": {},
   "outputs": [],
   "source": [
    "# Constants\n",
    "in_size = 28 * 28\n",
    "out_size = 10"
   ]
  },
  {
   "cell_type": "code",
   "execution_count": null,
   "metadata": {},
   "outputs": [],
   "source": [
    "## Meta-Hyperparameters\n",
    "num_optimizee = 10\n",
    "unroll_len = 10"
   ]
  },
  {
   "cell_type": "code",
   "execution_count": null,
   "metadata": {},
   "outputs": [],
   "source": [
    "## Hyperparameters\n",
    "batch_size = 128\n",
    "num_epochs = 5"
   ]
  },
  {
   "cell_type": "code",
   "execution_count": null,
   "metadata": {},
   "outputs": [],
   "source": [
    "## Optimizer Model\n",
    "update_fn = lstm_l2o_optimizer().to(device)\n",
    "meta_optimizer = torch.optim.Adam(update_fn.parameters(), lr=0.01)"
   ]
  },
  {
   "cell_type": "code",
   "execution_count": null,
   "metadata": {},
   "outputs": [],
   "source": [
    "# Download training data from open datasets.\n",
    "training_data = datasets.MNIST(\n",
    "    root=\"data\",\n",
    "    train=True,\n",
    "    download=True,\n",
    "    transform=ToTensor(),\n",
    ")\n",
    "\n",
    "# Download test data from open datasets.\n",
    "test_data = datasets.MNIST(\n",
    "    root=\"data\",\n",
    "    train=False,\n",
    "    download=True,\n",
    "    transform=ToTensor(),\n",
    ")"
   ]
  },
  {
   "cell_type": "code",
   "execution_count": null,
   "metadata": {},
   "outputs": [],
   "source": [
    "# Create data loaders.\n",
    "train_dataloader = DataLoader(training_data, batch_size=batch_size)\n",
    "test_dataloader = DataLoader(test_data, batch_size=batch_size)\n",
    "\n",
    "for X, y in test_dataloader:\n",
    "    print(f\"Shape of X [N, C, H, W]: {X.shape}\")\n",
    "    print(f\"Shape of y: {y.shape} {y.dtype}\")\n",
    "    break\n",
    "\n",
    "from math import ceil\n",
    "\n",
    "num_batches = ceil(len(training_data) / batch_size)\n",
    "print(f\"Number of batches: {num_batches}\")"
   ]
  },
  {
   "cell_type": "code",
   "execution_count": null,
   "metadata": {},
   "outputs": [],
   "source": [
    "models_t = [None for _ in range(unroll_len)]\n",
    "models_t[0] = class_net(in_size, out_size).to(device)"
   ]
  },
  {
   "cell_type": "code",
   "execution_count": null,
   "metadata": {},
   "outputs": [],
   "source": [
    "loss_fn = nn.CrossEntropyLoss()"
   ]
  },
  {
   "cell_type": "markdown",
   "metadata": {},
   "source": [
    "### Useful Functions\n",
    "Defines useful functions for the main loop"
   ]
  },
  {
   "cell_type": "code",
   "execution_count": null,
   "metadata": {},
   "outputs": [],
   "source": [
    "def init_hidden(model):\n",
    "    # Initializes a hidden state dictionary for every parameter value in the model.\n",
    "    h = {}\n",
    "\n",
    "    for m_key in model._modules:\n",
    "        modules = model._modules[m_key]\n",
    "        h_module = {}\n",
    "        for p_key in modules._parameters:\n",
    "            h_module[p_key] = None\n",
    "        h[m_key] = h_module\n",
    "    \n",
    "    return h"
   ]
  },
  {
   "cell_type": "code",
   "execution_count": null,
   "metadata": {},
   "outputs": [],
   "source": [
    "def init_sequence(model_arch):\n",
    "    models_t = [None for _ in range(unroll_len)]\n",
    "    models_t[0] = model_arch(in_size, out_size).to(device)\n",
    "    return models_t"
   ]
  },
  {
   "cell_type": "code",
   "execution_count": null,
   "metadata": {},
   "outputs": [],
   "source": [
    "def reset_computational_graph(models_t, h_dict):\n",
    "    # Resets model sequence after training iterations\n",
    "    # Assigns the starting model to be the prev ending model\n",
    "\n",
    "    model_end = models_t[-1]\n",
    "    model_new_start = class_net(in_size, out_size)\n",
    "\n",
    "    for m_key in model_end._modules:\n",
    "        m1, m2 = model_end._modules[m_key], model_new_start._modules[m_key]\n",
    "        for p_key in m1._parameters:\n",
    "            m2._parameters[p_key] = m1._parameters[p_key].detach()\n",
    "            m2.requires_grad_()\n",
    "\n",
    "    models_t[0] = model_new_start\n",
    "\n",
    "    # Resets computational graph of hidden state\n",
    "    for m_key in h_dict:\n",
    "        h_mod = h_dict[m_key]\n",
    "        for p_key in h_mod:\n",
    "            # Every h has two values, short term and long term memory\n",
    "            h_mod[p_key] = (h_mod[p_key][0].detach(), h_mod[p_key][1].detach())\n",
    "            \n",
    "            h_mod[p_key][0].requires_grad_()\n",
    "            h_mod[p_key][1].requires_grad_()"
   ]
  },
  {
   "cell_type": "code",
   "execution_count": null,
   "metadata": {},
   "outputs": [],
   "source": [
    "def zero_gradients(model):\n",
    "    for m_key in model._modules:\n",
    "        m1 = model._modules[m_key]\n",
    "        for p_key in m1._parameters:\n",
    "            # Shape for Batch input: (1, Num, 1)\n",
    "            # Shape for Hidden State: (1, Num, 24)\n",
    "            \n",
    "            if m1._parameters[p_key].grad is not None:\n",
    "                m1._parameters[p_key].grad.zero_()"
   ]
  },
  {
   "cell_type": "code",
   "execution_count": null,
   "metadata": {},
   "outputs": [],
   "source": [
    "def update_optimizee_and_copy(old_model, new_model, hidden):\n",
    "    for m_key in old_model._modules:\n",
    "        m1, m2 = old_model._modules[m_key], new_model._modules[m_key]\n",
    "        h_module = hidden[m_key]\n",
    "        for p_key in m1._parameters:\n",
    "            # Shape for Batch input: (1, Num, 1)\n",
    "            # Shape for Hidden State: (1, Num, 24)\n",
    "            \n",
    "            grad_in = m1._parameters[p_key].grad.reshape(1, -1, 1)\n",
    "\n",
    "            update, h_module[p_key] = update_fn(grad_in, h_module[p_key])        \n",
    "            update = update.reshape(m1._parameters[p_key].shape)\n",
    "            \n",
    "            m2._parameters[p_key] = m1._parameters[p_key].detach() - update  \n",
    "            m2._parameters[p_key].requires_grad_()\n",
    "            m2._parameters[p_key].retain_grad()"
   ]
  },
  {
   "cell_type": "code",
   "execution_count": null,
   "metadata": {},
   "outputs": [],
   "source": [
    "def backprop_on_optimizer(total_loss):\n",
    "    # Outer Loop Backprop\n",
    "    meta_optimizer.zero_grad()\n",
    "    total_loss.backward()\n",
    "    meta_optimizer.step()"
   ]
  },
  {
   "cell_type": "code",
   "execution_count": null,
   "metadata": {},
   "outputs": [],
   "source": [
    "def inner_pass(h, models_t):\n",
    "    total_loss = 0\n",
    "    for i, (X, y) in enumerate(train_dataloader):\n",
    "        iter = i % unroll_len\n",
    "\n",
    "        if (num_batches - i) < unroll_len:\n",
    "            # End prematurely if remaining batches not enough for unroll length\n",
    "            reset_computational_graph(models_t, h)\n",
    "            break\n",
    "\n",
    "        # Preprocessing\n",
    "        X = X.reshape(batch_size, -1)\n",
    "        X, y = X.to(device), y.to(device)\n",
    "\n",
    "        # Forward Pass\n",
    "        pred = models_t[iter](X)\n",
    "        loss = loss_fn(pred, y)\n",
    "        total_loss = total_loss + loss\n",
    "\n",
    "        if (i % 125) == 0:\n",
    "            print(f\"Batch {i} / {num_batches}, Model loss: {loss}\")\n",
    "\n",
    "        if iter == unroll_len - 1:\n",
    "            backprop_on_optimizer(total_loss)\n",
    "            reset_computational_graph(models_t, h)\n",
    "            total_loss = 0\n",
    "\n",
    "        else:\n",
    "            # Backprop\n",
    "            zero_gradients(models_t[iter])\n",
    "            loss.backward(retain_graph=True)\n",
    "            models_t[iter+1] = class_net(28*28, 10).to(device)  # Initialize a new model\n",
    "            update_optimizee_and_copy(\n",
    "                old_model=models_t[iter], new_model=models_t[iter+1], hidden=h)"
   ]
  },
  {
   "cell_type": "code",
   "execution_count": null,
   "metadata": {},
   "outputs": [],
   "source": [
    "def outer_pass():\n",
    "    models_t = init_sequence(class_net)\n",
    "    h = init_hidden(models_t[0])\n",
    "    for epoch in range(num_epochs):\n",
    "        print(f\"Epoch {epoch}\")\n",
    "        inner_pass(h, models_t)"
   ]
  },
  {
   "cell_type": "markdown",
   "metadata": {},
   "source": [
    "### Main Loop\n",
    "Executing the cells below to train the L2O optimizer for multiple epochs"
   ]
  },
  {
   "cell_type": "code",
   "execution_count": null,
   "metadata": {},
   "outputs": [],
   "source": [
    "for count in range(num_optimizee):\n",
    "    print(f\"{count}-th optimizee\")\n",
    "    outer_pass()"
   ]
  }
 ],
 "metadata": {
  "kernelspec": {
   "display_name": "Python 3.10.4 64-bit",
   "language": "python",
   "name": "python3"
  },
  "language_info": {
   "codemirror_mode": {
    "name": "ipython",
    "version": 3
   },
   "file_extension": ".py",
   "mimetype": "text/x-python",
   "name": "python",
   "nbconvert_exporter": "python",
   "pygments_lexer": "ipython3",
   "version": "3.10.4"
  },
  "orig_nbformat": 4,
  "vscode": {
   "interpreter": {
    "hash": "369f2c481f4da34e4445cda3fffd2e751bd1c4d706f27375911949ba6bb62e1c"
   }
  }
 },
 "nbformat": 4,
 "nbformat_minor": 2
}
