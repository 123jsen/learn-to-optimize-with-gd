{
 "cells": [
  {
   "cell_type": "markdown",
   "metadata": {},
   "source": [
    "# Purpose\n",
    "This code trains a classification network using the LSTM optimizer"
   ]
  },
  {
   "cell_type": "code",
   "execution_count": null,
   "metadata": {},
   "outputs": [],
   "source": [
    "import torch\n",
    "from torch import nn\n",
    "from torch.utils.data import DataLoader\n",
    "\n",
    "from torchvision import datasets\n",
    "from torchvision.transforms import ToTensor\n",
    "\n",
    "from models.l2o_optimizer import lstm_l2o_optimizer\n",
    "\n",
    "from models.class_network import class_net"
   ]
  },
  {
   "cell_type": "code",
   "execution_count": null,
   "metadata": {},
   "outputs": [],
   "source": [
    "# Get cpu or gpu device for training.\n",
    "device = \"cuda\" if torch.cuda.is_available() else \"cpu\"\n",
    "print(f\"Using {device} device\")"
   ]
  },
  {
   "cell_type": "code",
   "execution_count": null,
   "metadata": {},
   "outputs": [],
   "source": [
    "# device = \"cpu\"\n",
    "# print(f\"Using {device} device\")"
   ]
  },
  {
   "cell_type": "code",
   "execution_count": null,
   "metadata": {},
   "outputs": [],
   "source": [
    "## Hyperparameters\n",
    "batch_size = 128\n",
    "iters = 50"
   ]
  },
  {
   "cell_type": "code",
   "execution_count": null,
   "metadata": {},
   "outputs": [],
   "source": [
    "## Optimizer Model\n",
    "update_fn = lstm_l2o_optimizer().to(device)\n",
    "meta_optimizer = torch.optim.SGD(update_fn.parameters(), lr=0.01)"
   ]
  },
  {
   "cell_type": "code",
   "execution_count": null,
   "metadata": {},
   "outputs": [],
   "source": [
    "# Download training data from open datasets.\n",
    "training_data = datasets.FashionMNIST(\n",
    "    root=\"data\",\n",
    "    train=True,\n",
    "    download=True,\n",
    "    transform=ToTensor(),\n",
    ")\n",
    "\n",
    "# Download test data from open datasets.\n",
    "test_data = datasets.FashionMNIST(\n",
    "    root=\"data\",\n",
    "    train=False,\n",
    "    download=True,\n",
    "    transform=ToTensor(),\n",
    ")"
   ]
  },
  {
   "cell_type": "code",
   "execution_count": null,
   "metadata": {},
   "outputs": [],
   "source": [
    "# Create data loaders.\n",
    "train_dataloader = DataLoader(training_data, batch_size=batch_size)\n",
    "test_dataloader = DataLoader(test_data, batch_size=batch_size)\n",
    "\n",
    "for X, y in test_dataloader:\n",
    "    print(f\"Shape of X [N, C, H, W]: {X.shape}\")\n",
    "    print(f\"Shape of y: {y.shape} {y.dtype}\")\n",
    "    break\n",
    "\n",
    "print(f\"Number of batches: {int(len(training_data) / batch_size)}\")"
   ]
  },
  {
   "cell_type": "code",
   "execution_count": null,
   "metadata": {},
   "outputs": [],
   "source": [
    "# Defines Model Architecture used\n",
    "model_arch = class_net\n",
    "def new_model(inputNum, outputNum):\n",
    "    return model_arch(inputNum, outputNum)"
   ]
  },
  {
   "cell_type": "code",
   "execution_count": null,
   "metadata": {},
   "outputs": [],
   "source": [
    "models_t = [None for _ in range(iters)]\n",
    "models_t[0] = new_model(28*28, 10).to(device)"
   ]
  },
  {
   "cell_type": "code",
   "execution_count": null,
   "metadata": {},
   "outputs": [],
   "source": [
    "loss_fn = nn.CrossEntropyLoss()"
   ]
  },
  {
   "cell_type": "markdown",
   "metadata": {},
   "source": [
    "### Main Loop\n",
    "Repeat executing the cells below to train the L2O optimizer for multiple epochs"
   ]
  },
  {
   "cell_type": "code",
   "execution_count": null,
   "metadata": {},
   "outputs": [],
   "source": [
    "# Initializes a hidden state dictionary for every parameter value in the model.\n",
    "\n",
    "h = {}\n",
    "\n",
    "for m_key in models_t[0]._modules:\n",
    "    modules = models_t[0]._modules[m_key]\n",
    "    h_module = {}\n",
    "    for p_key in modules._parameters:\n",
    "        h_module[p_key] = None\n",
    "    h[m_key] = h_module"
   ]
  },
  {
   "cell_type": "code",
   "execution_count": null,
   "metadata": {},
   "outputs": [],
   "source": [
    "# Outer Forward Pass\n",
    "total_loss = 0\n",
    "\n",
    "for i, (X, y) in enumerate(train_dataloader):\n",
    "    # Preprocessing\n",
    "    X = X.reshape(batch_size, -1)\n",
    "    X, y = X.to(device), y.to(device)\n",
    "    \n",
    "    # Forward Pass\n",
    "    pred = models_t[i](X)\n",
    "    loss = loss_fn(pred, y)\n",
    "    total_loss = total_loss + loss\n",
    "\n",
    "    if i % 10 == 0:\n",
    "        print(f\"Batch {i:2}, MSE Loss: {loss:.5f}\")\n",
    "    if i == iters - 1:\n",
    "        break\n",
    "\n",
    "    # Backprop\n",
    "    loss.backward(retain_graph=True)\n",
    "\n",
    "    # Initialize a new model with previous weights\n",
    "    models_t[i+1] = new_model(28*28, 10).to(device)\n",
    "\n",
    "    for m_key in models_t[i]._modules:\n",
    "        m1, m2 = models_t[i]._modules[m_key], models_t[i+1]._modules[m_key]\n",
    "        h_module = h[m_key]\n",
    "        for p_key in m1._parameters:\n",
    "            # Shape for Batch input: (1, Num, 1)\n",
    "            # Shape for Hidden State: (1, Num, 24)\n",
    "            \n",
    "            grad_in = m1._parameters[p_key].grad.reshape(1, -1, 1)\n",
    "\n",
    "            update, h_module[p_key] = update_fn(grad_in, h_module[p_key])        \n",
    "            update = update.reshape(m1._parameters[p_key].shape)\n",
    "            \n",
    "            m2._parameters[p_key] = m1._parameters[p_key].detach() - update  \n",
    "            m2._parameters[p_key].requires_grad_()\n",
    "            m2._parameters[p_key].retain_grad()\n",
    "\n",
    "\n",
    "print(f\"Total loss in {iters} iterations: {total_loss:.3f}\")"
   ]
  },
  {
   "cell_type": "code",
   "execution_count": null,
   "metadata": {},
   "outputs": [],
   "source": [
    "# Resets model sequence after training iterations\n",
    "# Assigns the starting model to be the prev ending model\n",
    "\n",
    "model_end = models_t[iters - 1]\n",
    "model_new_start = new_model(28*28, 10)\n",
    "\n",
    "for m_key in model_end._modules:\n",
    "    m1, m2 = model_end._modules[m_key], model_new_start._modules[m_key]\n",
    "    for p_key in m1._parameters:\n",
    "        m2._parameters[p_key] = m1._parameters[p_key].detach()\n",
    "        m2.requires_grad_()\n",
    "\n",
    "models_t[0] = model_new_start"
   ]
  },
  {
   "cell_type": "code",
   "execution_count": null,
   "metadata": {},
   "outputs": [],
   "source": [
    "# Outer Loop Backprop\n",
    "meta_optimizer.zero_grad()\n",
    "total_loss.backward()"
   ]
  },
  {
   "cell_type": "code",
   "execution_count": null,
   "metadata": {},
   "outputs": [],
   "source": [
    "meta_optimizer.step()"
   ]
  },
  {
   "cell_type": "code",
   "execution_count": null,
   "metadata": {},
   "outputs": [],
   "source": []
  }
 ],
 "metadata": {
  "kernelspec": {
   "display_name": "Python 3.10.4 64-bit",
   "language": "python",
   "name": "python3"
  },
  "language_info": {
   "codemirror_mode": {
    "name": "ipython",
    "version": 3
   },
   "file_extension": ".py",
   "mimetype": "text/x-python",
   "name": "python",
   "nbconvert_exporter": "python",
   "pygments_lexer": "ipython3",
   "version": "3.10.4"
  },
  "orig_nbformat": 4,
  "vscode": {
   "interpreter": {
    "hash": "369f2c481f4da34e4445cda3fffd2e751bd1c4d706f27375911949ba6bb62e1c"
   }
  }
 },
 "nbformat": 4,
 "nbformat_minor": 2
}
