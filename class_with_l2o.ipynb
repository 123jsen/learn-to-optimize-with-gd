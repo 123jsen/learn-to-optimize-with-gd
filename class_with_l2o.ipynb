{
 "cells": [
  {
   "cell_type": "markdown",
   "metadata": {},
   "source": [
    "# Purpose\n",
    "This code trains a classification network using a variable learning rate determined by L2O"
   ]
  },
  {
   "cell_type": "code",
   "execution_count": 1,
   "metadata": {},
   "outputs": [],
   "source": [
    "import torch\n",
    "from torch import nn\n",
    "from torch.utils.data import DataLoader\n",
    "\n",
    "from torchvision import datasets\n",
    "from torchvision.transforms import ToTensor\n",
    "\n",
    "from models.class_network import class_net"
   ]
  },
  {
   "cell_type": "code",
   "execution_count": 2,
   "metadata": {},
   "outputs": [],
   "source": [
    "## Hyperparameters\n",
    "batch_size = 128\n",
    "iters = 50"
   ]
  },
  {
   "cell_type": "code",
   "execution_count": 3,
   "metadata": {},
   "outputs": [],
   "source": [
    "## Learnable Parameters\n",
    "lr = torch.tensor([0.001], requires_grad=True)"
   ]
  },
  {
   "cell_type": "code",
   "execution_count": 4,
   "metadata": {},
   "outputs": [],
   "source": [
    "# Download training data from open datasets.\n",
    "training_data = datasets.FashionMNIST(\n",
    "    root=\"data\",\n",
    "    train=True,\n",
    "    download=True,\n",
    "    transform=ToTensor(),\n",
    ")\n",
    "\n",
    "# Download test data from open datasets.\n",
    "test_data = datasets.FashionMNIST(\n",
    "    root=\"data\",\n",
    "    train=False,\n",
    "    download=True,\n",
    "    transform=ToTensor(),\n",
    ")"
   ]
  },
  {
   "cell_type": "code",
   "execution_count": 5,
   "metadata": {},
   "outputs": [
    {
     "name": "stdout",
     "output_type": "stream",
     "text": [
      "Shape of X [N, C, H, W]: torch.Size([128, 1, 28, 28])\n",
      "Shape of y: torch.Size([128]) torch.int64\n",
      "Number of batches: 468\n"
     ]
    }
   ],
   "source": [
    "# Create data loaders.\n",
    "train_dataloader = DataLoader(training_data, batch_size=batch_size)\n",
    "test_dataloader = DataLoader(test_data, batch_size=batch_size)\n",
    "\n",
    "for X, y in test_dataloader:\n",
    "    print(f\"Shape of X [N, C, H, W]: {X.shape}\")\n",
    "    print(f\"Shape of y: {y.shape} {y.dtype}\")\n",
    "    break\n",
    "\n",
    "print(f\"Number of batches: {int(len(training_data) / batch_size)}\")"
   ]
  },
  {
   "cell_type": "code",
   "execution_count": 6,
   "metadata": {},
   "outputs": [],
   "source": [
    "# Defines Model Architecture used\n",
    "model_arch = class_net\n",
    "def new_model(inputNum, outputNum):\n",
    "    return model_arch(inputNum, outputNum)"
   ]
  },
  {
   "cell_type": "code",
   "execution_count": 7,
   "metadata": {},
   "outputs": [],
   "source": [
    "models_t = [None for _ in range(iters)]\n",
    "models_t[0] = new_model(28*28, 10)"
   ]
  },
  {
   "cell_type": "code",
   "execution_count": 8,
   "metadata": {},
   "outputs": [],
   "source": [
    "loss_fn = nn.CrossEntropyLoss()"
   ]
  },
  {
   "cell_type": "code",
   "execution_count": 9,
   "metadata": {},
   "outputs": [
    {
     "name": "stdout",
     "output_type": "stream",
     "text": [
      "Batch  0, MSE Loss: 2.33190\n",
      "Batch 10, MSE Loss: 2.30209\n",
      "Batch 20, MSE Loss: 2.30005\n",
      "Batch 30, MSE Loss: 2.27335\n",
      "Batch 40, MSE Loss: 2.29328\n",
      "Total loss in 50 iterations: 115.081\n"
     ]
    }
   ],
   "source": [
    "total_loss = 0\n",
    "\n",
    "for i, (X, y) in enumerate(train_dataloader):\n",
    "    # Preprocessing\n",
    "    X = X.reshape(batch_size, -1)\n",
    "    \n",
    "    # Forward Pass\n",
    "    pred = models_t[i](X)\n",
    "    loss = loss_fn(pred, y)\n",
    "    total_loss = total_loss + loss\n",
    "\n",
    "    if i % 10 == 0:\n",
    "        print(f\"Batch {i:2}, MSE Loss: {loss:.5f}\")\n",
    "    if i == iters - 1:\n",
    "        break\n",
    "\n",
    "    # Backprop\n",
    "    loss.backward(retain_graph=True)\n",
    "\n",
    "    # Initialize a new model with previous weights\n",
    "    models_t[i+1] = new_model(28*28, 10)\n",
    "\n",
    "    for m_key in models_t[i]._modules:\n",
    "        m1, m2 = models_t[i]._modules[m_key], models_t[i+1]._modules[m_key]\n",
    "        for p_key in m1._parameters:\n",
    "            m2._parameters[p_key] = m1._parameters[p_key].detach() - m1._parameters[p_key].grad * lr\n",
    "            m2._parameters[p_key].requires_grad_()\n",
    "            m2._parameters[p_key].retain_grad()\n",
    "\n",
    "\n",
    "print(f\"Total loss in {iters} iterations: {total_loss:.3f}\")"
   ]
  },
  {
   "cell_type": "code",
   "execution_count": 10,
   "metadata": {},
   "outputs": [],
   "source": [
    "# Resets model sequence after training iterations\n",
    "# Assigns the starting model to be the prev ending model\n",
    "\n",
    "model_end = models_t[iters - 1]\n",
    "model_new_start = new_model(28*28, 10)\n",
    "\n",
    "for m_key in model_end._modules:\n",
    "    m1, m2 = model_end._modules[m_key], model_new_start._modules[m_key]\n",
    "    for p_key in m1._parameters:\n",
    "        m2._parameters[p_key] = m1._parameters[p_key].detach()\n",
    "        m2.requires_grad_()\n",
    "\n",
    "models_t[0] = model_new_start"
   ]
  },
  {
   "cell_type": "code",
   "execution_count": 11,
   "metadata": {},
   "outputs": [],
   "source": [
    "# Outer Loop Backprop\n",
    "total_loss.backward()"
   ]
  },
  {
   "cell_type": "code",
   "execution_count": 12,
   "metadata": {},
   "outputs": [
    {
     "name": "stdout",
     "output_type": "stream",
     "text": [
      "tensor([-40.5704])\n"
     ]
    }
   ],
   "source": [
    "print(lr.grad)"
   ]
  },
  {
   "cell_type": "code",
   "execution_count": null,
   "metadata": {},
   "outputs": [],
   "source": []
  }
 ],
 "metadata": {
  "kernelspec": {
   "display_name": "Python 3.10.4 64-bit",
   "language": "python",
   "name": "python3"
  },
  "language_info": {
   "codemirror_mode": {
    "name": "ipython",
    "version": 3
   },
   "file_extension": ".py",
   "mimetype": "text/x-python",
   "name": "python",
   "nbconvert_exporter": "python",
   "pygments_lexer": "ipython3",
   "version": "3.10.4"
  },
  "orig_nbformat": 4,
  "vscode": {
   "interpreter": {
    "hash": "369f2c481f4da34e4445cda3fffd2e751bd1c4d706f27375911949ba6bb62e1c"
   }
  }
 },
 "nbformat": 4,
 "nbformat_minor": 2
}
