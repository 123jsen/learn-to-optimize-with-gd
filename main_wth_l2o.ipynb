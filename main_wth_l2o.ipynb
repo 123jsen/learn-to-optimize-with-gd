{
 "cells": [
  {
   "cell_type": "code",
   "execution_count": 1,
   "metadata": {},
   "outputs": [],
   "source": [
    "import torch\n",
    "from torch import nn\n",
    "from torch.utils.data import DataLoader\n",
    "\n",
    "from datasets import LinearDataset, BostonDataset"
   ]
  },
  {
   "cell_type": "code",
   "execution_count": 2,
   "metadata": {},
   "outputs": [],
   "source": [
    "batch_size = 1\n",
    "unfold_length = 10\n",
    "epochs = 500"
   ]
  },
  {
   "cell_type": "code",
   "execution_count": 3,
   "metadata": {},
   "outputs": [],
   "source": [
    "#learnable parameters\n",
    "lr = torch.tensor([0.001], requires_grad=True)"
   ]
  },
  {
   "cell_type": "code",
   "execution_count": 4,
   "metadata": {},
   "outputs": [],
   "source": [
    "dataset = LinearDataset()\n",
    "train_loader = DataLoader(dataset, batch_size=batch_size)"
   ]
  },
  {
   "cell_type": "code",
   "execution_count": 5,
   "metadata": {},
   "outputs": [],
   "source": [
    "def loss_fn(y, y_pred):\n",
    "    return (y - y_pred) ** 2\n"
   ]
  },
  {
   "cell_type": "code",
   "execution_count": 6,
   "metadata": {},
   "outputs": [
    {
     "name": "stdout",
     "output_type": "stream",
     "text": [
      "torch.Size([1, 1])\n",
      "torch.Size([1])\n"
     ]
    }
   ],
   "source": [
    "X, y = next(iter(train_loader))\n",
    "X, y = X.to(dtype=torch.float32), y.to(dtype=torch.float32)\n",
    "print(X.shape)\n",
    "print(y.shape)"
   ]
  },
  {
   "cell_type": "markdown",
   "metadata": {},
   "source": [
    "### Shape of Parameters\n",
    "Parameters in time are a (python vanilla) list of paramters. The length of the paramter list is `unfold_length`\n",
    "At the n-th step, we take `weight[n]` for feedforward"
   ]
  },
  {
   "cell_type": "code",
   "execution_count": 7,
   "metadata": {},
   "outputs": [],
   "source": [
    "weights = [None for i in range(unfold_length)]\n",
    "weights[0] = nn.Parameter(torch.rand(1, dtype=torch.float32))\n",
    "\n",
    "bias = [None for i in range(unfold_length)]\n",
    "bias[0] = nn.Parameter(torch.rand(1, dtype=torch.float32))"
   ]
  },
  {
   "cell_type": "code",
   "execution_count": 21,
   "metadata": {},
   "outputs": [
    {
     "name": "stdout",
     "output_type": "stream",
     "text": [
      "Batch: 0\n",
      "MSE: 0.02533680759370327\n",
      "Batch: 1\n",
      "MSE: 0.02752051316201687\n",
      "Batch: 2\n",
      "MSE: 0.04290696606040001\n",
      "Batch: 3\n",
      "MSE: 0.012292025610804558\n",
      "Batch: 4\n",
      "MSE: 0.037217654287815094\n",
      "Batch: 5\n",
      "MSE: 0.5550603270530701\n",
      "Batch: 6\n",
      "MSE: 0.2331543266773224\n",
      "Batch: 7\n",
      "MSE: 0.3621459901332855\n",
      "Batch: 8\n",
      "MSE: 0.5448423624038696\n",
      "Batch: 9\n",
      "MSE: 0.9242441654205322\n"
     ]
    }
   ],
   "source": [
    "for i, (X, y) in enumerate(train_loader):\n",
    "    print(f\"Batch: {i}\")\n",
    "    X, y = X.to(dtype=torch.float32), y.to(dtype=torch.float32)\n",
    "\n",
    "    pred = torch.matmul(X, weights[i]) + bias[i]\n",
    "    loss = loss_fn(y, pred).mean()\n",
    "\n",
    "    print(f\"MSE: {loss.item()}\")\n",
    "\n",
    "    loss.backward()\n",
    "\n",
    "    if (i == len(train_loader) - 1):\n",
    "        break\n",
    "\n",
    "    with torch.no_grad():\n",
    "        weights[i+1] = weights[i] - weights[i].grad * lr\n",
    "        bias[i+1] = bias[i] - bias[i].grad * lr\n",
    "\n",
    "    # no need to zero gradients, as weights[i+1] and weights[i] are not the same variable\n",
    "    # require grad, as assignment is done in no_grad context\n",
    "    weights[i+1].requires_grad_()\n",
    "    bias[i+1].requires_grad_()\n"
   ]
  },
  {
   "cell_type": "code",
   "execution_count": 22,
   "metadata": {},
   "outputs": [
    {
     "data": {
      "text/plain": [
       "tensor([1.1586], requires_grad=True)"
      ]
     },
     "execution_count": 22,
     "metadata": {},
     "output_type": "execute_result"
    }
   ],
   "source": [
    "with torch.no_grad():\n",
    "    weights[0] = weights[9]\n",
    "    bias[0] = bias[9]\n",
    "\n",
    "weights[0].requires_grad_()\n",
    "bias[0].requires_grad_()"
   ]
  },
  {
   "cell_type": "code",
   "execution_count": null,
   "metadata": {},
   "outputs": [],
   "source": []
  }
 ],
 "metadata": {
  "kernelspec": {
   "display_name": "Python 3.10.4 64-bit",
   "language": "python",
   "name": "python3"
  },
  "language_info": {
   "codemirror_mode": {
    "name": "ipython",
    "version": 3
   },
   "file_extension": ".py",
   "mimetype": "text/x-python",
   "name": "python",
   "nbconvert_exporter": "python",
   "pygments_lexer": "ipython3",
   "version": "3.10.4"
  },
  "orig_nbformat": 4,
  "vscode": {
   "interpreter": {
    "hash": "369f2c481f4da34e4445cda3fffd2e751bd1c4d706f27375911949ba6bb62e1c"
   }
  }
 },
 "nbformat": 4,
 "nbformat_minor": 2
}
