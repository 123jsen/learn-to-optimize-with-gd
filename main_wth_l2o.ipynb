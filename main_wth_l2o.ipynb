{
 "cells": [
  {
   "cell_type": "markdown",
   "metadata": {},
   "source": [
    "## Purpose\n",
    "This code trains a simple regression model using a variable learning rate learnt by L2O"
   ]
  },
  {
   "cell_type": "code",
   "execution_count": null,
   "metadata": {},
   "outputs": [],
   "source": [
    "import torch\n",
    "from torch import nn\n",
    "from torch.utils.data import DataLoader\n",
    "\n",
    "from datasets import LinearDataset, BostonDataset"
   ]
  },
  {
   "cell_type": "code",
   "execution_count": null,
   "metadata": {},
   "outputs": [],
   "source": [
    "batch_size = 1\n",
    "unfold_length = 10\n",
    "epochs = 500"
   ]
  },
  {
   "cell_type": "code",
   "execution_count": null,
   "metadata": {},
   "outputs": [],
   "source": [
    "#learnable parameters\n",
    "lr = torch.tensor([0.001], requires_grad=True)"
   ]
  },
  {
   "cell_type": "code",
   "execution_count": null,
   "metadata": {},
   "outputs": [],
   "source": [
    "dataset = LinearDataset()\n",
    "train_loader = DataLoader(dataset, batch_size=batch_size)"
   ]
  },
  {
   "cell_type": "code",
   "execution_count": null,
   "metadata": {},
   "outputs": [],
   "source": [
    "def loss_fn(y, y_pred):\n",
    "    return (y - y_pred) ** 2"
   ]
  },
  {
   "cell_type": "code",
   "execution_count": null,
   "metadata": {},
   "outputs": [],
   "source": [
    "X, y = next(iter(train_loader))\n",
    "X, y = X.to(dtype=torch.float32), y.to(dtype=torch.float32)\n",
    "print(X.shape)\n",
    "print(y.shape)"
   ]
  },
  {
   "cell_type": "markdown",
   "metadata": {},
   "source": [
    "### Shape of Parameters\n",
    "Parameters in time are a (python vanilla) list of paramters. The length of the paramter list is `unfold_length`\n",
    "At the n-th step, we take `weight[n]` for feedforward"
   ]
  },
  {
   "cell_type": "code",
   "execution_count": null,
   "metadata": {},
   "outputs": [],
   "source": [
    "weights = [None for i in range(unfold_length)]\n",
    "weights[0] = nn.Parameter(torch.rand(1, dtype=torch.float32))\n",
    "\n",
    "bias = [None for i in range(unfold_length)]\n",
    "bias[0] = nn.Parameter(torch.rand(1, dtype=torch.float32))"
   ]
  },
  {
   "cell_type": "code",
   "execution_count": null,
   "metadata": {},
   "outputs": [],
   "source": [
    "total_loss = 0\n",
    "\n",
    "for i, (X, y) in enumerate(train_loader):\n",
    "    print(f\"Batch: {i}\")\n",
    "    X, y = X.to(dtype=torch.float32), y.to(dtype=torch.float32)\n",
    "\n",
    "    pred = torch.matmul(X, weights[i]) + bias[i]\n",
    "    loss = loss_fn(y, pred).mean()\n",
    "\n",
    "    print(f\"MSE: {loss.item()}\")\n",
    "\n",
    "    loss.backward(retain_graph=True)\n",
    "\n",
    "    total_loss = total_loss + loss\n",
    "\n",
    "    if (i == len(train_loader) - 1):\n",
    "        break\n",
    "\n",
    "    weights[i+1] = weights[i].detach() - weights[i].grad * lr\n",
    "    bias[i+1] = bias[i].detach() - bias[i].grad * lr\n",
    "\n",
    "    # no need to zero gradients, as weights[i+1] and weights[i] are not the same variable\n",
    "    \n",
    "    weights[i+1].requires_grad_()   # require_grad, as assignment is done in no_grad context\n",
    "    weights[i+1].retain_grad()      # retain_grad since weights[i+1] is not a leaf tensor in the larger grape\n",
    "\n",
    "    bias[i+1].requires_grad_()\n",
    "    bias[i+1].retain_grad()\n",
    "\n",
    "print(f\"Total loss: {total_loss}\")"
   ]
  },
  {
   "cell_type": "code",
   "execution_count": null,
   "metadata": {},
   "outputs": [],
   "source": [
    "with torch.no_grad():\n",
    "    weights[0] = weights[9]\n",
    "    bias[0] = bias[9]\n",
    "\n",
    "last_weights = weights[9].detach()\n",
    "last_bias = bias[9].detach()\n",
    "\n",
    "weights = [None for i in range(unfold_length)]\n",
    "weights[0] = nn.Parameter(last_weights)\n",
    "\n",
    "bias = [None for i in range(unfold_length)]\n",
    "bias[0] = nn.Parameter(last_bias)"
   ]
  },
  {
   "cell_type": "code",
   "execution_count": null,
   "metadata": {},
   "outputs": [],
   "source": [
    "total_loss.backward()"
   ]
  },
  {
   "cell_type": "code",
   "execution_count": null,
   "metadata": {},
   "outputs": [],
   "source": [
    "with torch.no_grad():\n",
    "    # clip gradients\n",
    "    if lr.grad >= 10:\n",
    "        lr.grad = torch.tensor([10.0])\n",
    "    if lr.grad <= -10:\n",
    "        lr.grad = torch.tensor([-10.0])\n",
    "\n",
    "    lr -= lr.grad * 0.001\n",
    "\n",
    "print(lr)"
   ]
  },
  {
   "cell_type": "code",
   "execution_count": null,
   "metadata": {},
   "outputs": [],
   "source": [
    "lr = lr.detach()\n",
    "lr.requires_grad_()"
   ]
  }
 ],
 "metadata": {
  "kernelspec": {
   "display_name": "Python 3.10.4 64-bit",
   "language": "python",
   "name": "python3"
  },
  "language_info": {
   "codemirror_mode": {
    "name": "ipython",
    "version": 3
   },
   "file_extension": ".py",
   "mimetype": "text/x-python",
   "name": "python",
   "nbconvert_exporter": "python",
   "pygments_lexer": "ipython3",
   "version": "3.10.4"
  },
  "orig_nbformat": 4,
  "vscode": {
   "interpreter": {
    "hash": "369f2c481f4da34e4445cda3fffd2e751bd1c4d706f27375911949ba6bb62e1c"
   }
  }
 },
 "nbformat": 4,
 "nbformat_minor": 2
}
