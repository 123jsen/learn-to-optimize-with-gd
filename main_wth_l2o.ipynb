{
 "cells": [
  {
   "cell_type": "code",
   "execution_count": 1,
   "metadata": {},
   "outputs": [],
   "source": [
    "import torch\n",
    "from torch import nn\n",
    "from torch.utils.data import DataLoader\n",
    "\n",
    "from datasets import LinearDataset, BostonDataset"
   ]
  },
  {
   "cell_type": "code",
   "execution_count": 2,
   "metadata": {},
   "outputs": [],
   "source": [
    "batch_size = 1\n",
    "unfold_length = 10\n",
    "epochs = 500"
   ]
  },
  {
   "cell_type": "code",
   "execution_count": 3,
   "metadata": {},
   "outputs": [],
   "source": [
    "#learnable parameters\n",
    "lr = torch.tensor([0.001], requires_grad=True)"
   ]
  },
  {
   "cell_type": "code",
   "execution_count": 4,
   "metadata": {},
   "outputs": [],
   "source": [
    "dataset = LinearDataset()\n",
    "train_loader = DataLoader(dataset, batch_size=batch_size)"
   ]
  },
  {
   "cell_type": "code",
   "execution_count": 5,
   "metadata": {},
   "outputs": [],
   "source": [
    "def loss_fn(y, y_pred):\n",
    "    return (y - y_pred) ** 2\n"
   ]
  },
  {
   "cell_type": "code",
   "execution_count": 6,
   "metadata": {},
   "outputs": [
    {
     "name": "stdout",
     "output_type": "stream",
     "text": [
      "torch.Size([1, 1])\n",
      "torch.Size([1])\n"
     ]
    }
   ],
   "source": [
    "X, y = next(iter(train_loader))\n",
    "X, y = X.to(dtype=torch.float32), y.to(dtype=torch.float32)\n",
    "print(X.shape)\n",
    "print(y.shape)"
   ]
  },
  {
   "cell_type": "markdown",
   "metadata": {},
   "source": [
    "### Shape of Parameters\n",
    "Parameters in time are a (python vanilla) list of paramters. The length of the paramter list is `unfold_length`\n",
    "At the n-th step, we take `weight[n]` for feedforward"
   ]
  },
  {
   "cell_type": "code",
   "execution_count": 7,
   "metadata": {},
   "outputs": [],
   "source": [
    "weights = [None for i in range(unfold_length)]\n",
    "weights[0] = nn.Parameter(torch.rand(1, dtype=torch.float32))\n",
    "\n",
    "bias = [None for i in range(unfold_length)]\n",
    "bias[0] = nn.Parameter(torch.rand(1, dtype=torch.float32))"
   ]
  },
  {
   "cell_type": "code",
   "execution_count": 8,
   "metadata": {},
   "outputs": [],
   "source": [
    "total_loss = 0"
   ]
  },
  {
   "cell_type": "code",
   "execution_count": 9,
   "metadata": {},
   "outputs": [
    {
     "name": "stdout",
     "output_type": "stream",
     "text": [
      "Batch: 0\n",
      "MSE: 9.8403959274292\n",
      "Batch: 1\n",
      "MSE: 34.86455154418945\n"
     ]
    },
    {
     "name": "stderr",
     "output_type": "stream",
     "text": [
      "c:\\Python310\\lib\\site-packages\\torch\\_tensor.py:1104: UserWarning: The .grad attribute of a Tensor that is not a leaf Tensor is being accessed. Its .grad attribute won't be populated during autograd.backward(). If you indeed want the .grad field to be populated for a non-leaf Tensor, use .retain_grad() on the non-leaf Tensor. If you access the non-leaf Tensor by mistake, make sure you access the leaf Tensor instead. See github.com/pytorch/pytorch/pull/30531 for more informations. (Triggered internally at  aten\\src\\ATen/core/TensorBody.h:475.)\n",
      "  return self._grad\n"
     ]
    },
    {
     "ename": "TypeError",
     "evalue": "unsupported operand type(s) for *: 'NoneType' and 'Tensor'",
     "output_type": "error",
     "traceback": [
      "\u001b[1;31m---------------------------------------------------------------------------\u001b[0m",
      "\u001b[1;31mTypeError\u001b[0m                                 Traceback (most recent call last)",
      "\u001b[1;32md:\\GitHub-Projects\\learn-to-optimize-with-gd\\main_wth_l2o.ipynb Cell 10\u001b[0m in \u001b[0;36m<cell line: 1>\u001b[1;34m()\u001b[0m\n\u001b[0;32m     <a href='vscode-notebook-cell:/d%3A/GitHub-Projects/learn-to-optimize-with-gd/main_wth_l2o.ipynb#ch0000007?line=13'>14</a>\u001b[0m \u001b[39mif\u001b[39;00m (i \u001b[39m==\u001b[39m \u001b[39mlen\u001b[39m(train_loader) \u001b[39m-\u001b[39m \u001b[39m1\u001b[39m):\n\u001b[0;32m     <a href='vscode-notebook-cell:/d%3A/GitHub-Projects/learn-to-optimize-with-gd/main_wth_l2o.ipynb#ch0000007?line=14'>15</a>\u001b[0m     \u001b[39mbreak\u001b[39;00m\n\u001b[1;32m---> <a href='vscode-notebook-cell:/d%3A/GitHub-Projects/learn-to-optimize-with-gd/main_wth_l2o.ipynb#ch0000007?line=16'>17</a>\u001b[0m weights[i\u001b[39m+\u001b[39m\u001b[39m1\u001b[39m] \u001b[39m=\u001b[39m weights[i]\u001b[39m.\u001b[39mdetach() \u001b[39m-\u001b[39m weights[i]\u001b[39m.\u001b[39;49mgrad \u001b[39m*\u001b[39;49m lr\n\u001b[0;32m     <a href='vscode-notebook-cell:/d%3A/GitHub-Projects/learn-to-optimize-with-gd/main_wth_l2o.ipynb#ch0000007?line=17'>18</a>\u001b[0m bias[i\u001b[39m+\u001b[39m\u001b[39m1\u001b[39m] \u001b[39m=\u001b[39m bias[i]\u001b[39m.\u001b[39mdetach() \u001b[39m-\u001b[39m bias[i]\u001b[39m.\u001b[39mgrad \u001b[39m*\u001b[39m lr\n\u001b[0;32m     <a href='vscode-notebook-cell:/d%3A/GitHub-Projects/learn-to-optimize-with-gd/main_wth_l2o.ipynb#ch0000007?line=19'>20</a>\u001b[0m \u001b[39m# no need to zero gradients, as weights[i+1] and weights[i] are not the same variable\u001b[39;00m\n\u001b[0;32m     <a href='vscode-notebook-cell:/d%3A/GitHub-Projects/learn-to-optimize-with-gd/main_wth_l2o.ipynb#ch0000007?line=20'>21</a>\u001b[0m \u001b[39m# require grad, as assignment is done in no_grad context\u001b[39;00m\n",
      "\u001b[1;31mTypeError\u001b[0m: unsupported operand type(s) for *: 'NoneType' and 'Tensor'"
     ]
    }
   ],
   "source": [
    "for i, (X, y) in enumerate(train_loader):\n",
    "    print(f\"Batch: {i}\")\n",
    "    X, y = X.to(dtype=torch.float32), y.to(dtype=torch.float32)\n",
    "\n",
    "    pred = torch.matmul(X, weights[i]) + bias[i]\n",
    "    loss = loss_fn(y, pred).mean()\n",
    "\n",
    "    print(f\"MSE: {loss.item()}\")\n",
    "\n",
    "    loss.backward(retain_graph=True)\n",
    "\n",
    "    total_loss = total_loss + loss\n",
    "\n",
    "    if (i == len(train_loader) - 1):\n",
    "        break\n",
    "\n",
    "    weights[i+1] = weights[i].detach() - weights[i].grad * lr\n",
    "    bias[i+1] = bias[i].detach() - bias[i].grad * lr\n",
    "\n",
    "    # no need to zero gradients, as weights[i+1] and weights[i] are not the same variable\n",
    "    \n",
    "    weights[i+1].requires_grad_()   # require_grad, as assignment is done in no_grad context\n",
    "    weights[i+1].retain_grad()      # retain_grad since weights[i+1] is not a leaf tensor in the larger grape\n",
    "\n",
    "    bias[i+1].requires_grad_()\n",
    "    bias[i+1].retain_grad()\n",
    "\n",
    "print(f\"Total loss: {total_loss}\")"
   ]
  },
  {
   "cell_type": "code",
   "execution_count": null,
   "metadata": {},
   "outputs": [],
   "source": [
    "with torch.no_grad():\n",
    "    weights[0] = weights[9]\n",
    "    bias[0] = bias[9]\n",
    "\n",
    "last_weights = weights[9].detach()\n",
    "last_bias = bias[9].detach()\n",
    "\n",
    "weights = [None for i in range(unfold_length)]\n",
    "weights[0] = nn.Parameter(last_weights)\n",
    "\n",
    "bias = [None for i in range(unfold_length)]\n",
    "bias[0] = nn.Parameter(last_bias)"
   ]
  },
  {
   "cell_type": "code",
   "execution_count": null,
   "metadata": {},
   "outputs": [],
   "source": [
    "total_loss.backward()"
   ]
  },
  {
   "cell_type": "code",
   "execution_count": null,
   "metadata": {},
   "outputs": [
    {
     "name": "stdout",
     "output_type": "stream",
     "text": [
      "tensor([0.1010], requires_grad=True)\n"
     ]
    }
   ],
   "source": [
    "with torch.no_grad():\n",
    "    # clip gradients\n",
    "    if lr.grad >= 100:\n",
    "        lr.grad = torch.tensor([100.0])\n",
    "    if lr.grad <= -100:\n",
    "        lr.grad = torch.tensor([-100.0])\n",
    "\n",
    "    lr -= lr.grad * 0.001\n",
    "\n",
    "print(lr)"
   ]
  },
  {
   "cell_type": "code",
   "execution_count": null,
   "metadata": {},
   "outputs": [
    {
     "data": {
      "text/plain": [
       "tensor([0.1010], requires_grad=True)"
      ]
     },
     "execution_count": 13,
     "metadata": {},
     "output_type": "execute_result"
    }
   ],
   "source": [
    "lr = lr.detach()\n",
    "lr.requires_grad_()"
   ]
  }
 ],
 "metadata": {
  "kernelspec": {
   "display_name": "Python 3.10.4 64-bit",
   "language": "python",
   "name": "python3"
  },
  "language_info": {
   "codemirror_mode": {
    "name": "ipython",
    "version": 3
   },
   "file_extension": ".py",
   "mimetype": "text/x-python",
   "name": "python",
   "nbconvert_exporter": "python",
   "pygments_lexer": "ipython3",
   "version": "3.10.4"
  },
  "orig_nbformat": 4,
  "vscode": {
   "interpreter": {
    "hash": "369f2c481f4da34e4445cda3fffd2e751bd1c4d706f27375911949ba6bb62e1c"
   }
  }
 },
 "nbformat": 4,
 "nbformat_minor": 2
}
