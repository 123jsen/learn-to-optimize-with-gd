{
 "cells": [
  {
   "cell_type": "code",
   "execution_count": 1,
   "metadata": {},
   "outputs": [
    {
     "name": "stdout",
     "output_type": "stream",
     "text": [
      "using cuda\n"
     ]
    }
   ],
   "source": [
    "import torch\n",
    "from torch import nn\n",
    "from torch.utils.data import DataLoader\n",
    "from torchvision import datasets\n",
    "from torchvision.transforms import ToTensor\n",
    "\n",
    "from models.class_network import deep_net\n",
    "\n",
    "device = \"cuda\" if torch.cuda.is_available() else \"cpu\"\n",
    "print(f\"using {device}\")"
   ]
  },
  {
   "cell_type": "code",
   "execution_count": 2,
   "metadata": {},
   "outputs": [],
   "source": [
    "# Download training data from open datasets.\n",
    "training_data = datasets.MNIST(\n",
    "    root=\"data\",\n",
    "    train=True,\n",
    "    download=True,\n",
    "    transform=ToTensor(),\n",
    ")\n",
    "\n",
    "# Download test data from open datasets.\n",
    "test_data = datasets.MNIST(\n",
    "    root=\"data\",\n",
    "    train=False,\n",
    "    download=True,\n",
    "    transform=ToTensor(),\n",
    ")"
   ]
  },
  {
   "cell_type": "code",
   "execution_count": 3,
   "metadata": {},
   "outputs": [],
   "source": [
    "# Constants\n",
    "\n",
    "history_step = 15\n",
    "output_step = 100"
   ]
  },
  {
   "cell_type": "code",
   "execution_count": 4,
   "metadata": {},
   "outputs": [],
   "source": [
    "# Hyperparameters\n",
    "\n",
    "batch_size = 128\n",
    "epochs = 5"
   ]
  },
  {
   "cell_type": "code",
   "execution_count": 5,
   "metadata": {},
   "outputs": [
    {
     "name": "stdout",
     "output_type": "stream",
     "text": [
      "Number of batches: 469\n"
     ]
    }
   ],
   "source": [
    "# Create data loaders.\n",
    "train_dataloader = DataLoader(training_data, batch_size=batch_size)\n",
    "test_dataloader = DataLoader(test_data, batch_size=batch_size)\n",
    "\n",
    "print(f\"Number of batches: {len(train_dataloader)}\")"
   ]
  },
  {
   "cell_type": "code",
   "execution_count": 6,
   "metadata": {},
   "outputs": [],
   "source": [
    "optimizers = [\n",
    "    torch.optim.SGD,\n",
    "    torch.optim.Adam,\n",
    "    torch.optim.RMSprop\n",
    "]\n",
    "\n",
    "lrs = [0.01, 0.001, 0.01]\n",
    "\n",
    "num_opts = len(optimizers)"
   ]
  },
  {
   "cell_type": "code",
   "execution_count": 7,
   "metadata": {},
   "outputs": [],
   "source": [
    "from copy import deepcopy\n",
    "model = deep_net(28*28, 10).to(device)\n",
    "models = [deepcopy(model) for _ in range(num_opts)]\n",
    "model_for_l2o = deepcopy(model)"
   ]
  },
  {
   "cell_type": "code",
   "execution_count": 8,
   "metadata": {},
   "outputs": [],
   "source": [
    "loss_fn = nn.CrossEntropyLoss()"
   ]
  },
  {
   "cell_type": "code",
   "execution_count": 9,
   "metadata": {},
   "outputs": [],
   "source": [
    "def train(dataloader, model, loss_fn, optimizer):\n",
    "    size = len(dataloader.dataset)\n",
    "    history = []\n",
    "    model.train()\n",
    "    for batch, (X, y) in enumerate(dataloader):\n",
    "        X, y = X.to(device), y.to(device)\n",
    "        X = X.reshape(-1, 28 * 28)\n",
    "\n",
    "        # Compute prediction error\n",
    "        pred = model(X)\n",
    "        loss = loss_fn(pred, y)\n",
    "\n",
    "        # Backpropagation\n",
    "        optimizer.zero_grad()\n",
    "        loss.backward()\n",
    "        optimizer.step()\n",
    "\n",
    "        loss = loss.item()\n",
    "\n",
    "        if batch % output_step == 0:\n",
    "            current = batch * len(X)\n",
    "            print(f\"loss: {loss:>7f}  [{current:>5d}/{size:>5d}]\")\n",
    "            \n",
    "\n",
    "        if batch % history_step == 0:\n",
    "            history.append(loss)\n",
    "            \n",
    "    return history"
   ]
  },
  {
   "cell_type": "code",
   "execution_count": 10,
   "metadata": {},
   "outputs": [
    {
     "name": "stdout",
     "output_type": "stream",
     "text": [
      "Using SGD\n",
      "Epoch 1: \n",
      "loss: 2.306220  [    0/60000]\n",
      "loss: 2.280006  [12800/60000]\n",
      "loss: 2.221151  [25600/60000]\n",
      "loss: 2.115293  [38400/60000]\n",
      "loss: 2.043834  [51200/60000]\n",
      "Epoch 2: \n",
      "loss: 1.904550  [    0/60000]\n",
      "loss: 1.827815  [12800/60000]\n",
      "loss: 1.531813  [25600/60000]\n",
      "loss: 1.303977  [38400/60000]\n",
      "loss: 1.119820  [51200/60000]\n",
      "Epoch 3: \n",
      "loss: 0.942343  [    0/60000]\n",
      "loss: 0.901653  [12800/60000]\n",
      "loss: 0.693841  [25600/60000]\n",
      "loss: 0.653321  [38400/60000]\n",
      "loss: 0.702186  [51200/60000]\n",
      "Epoch 4: \n",
      "loss: 0.584436  [    0/60000]\n",
      "loss: 0.592828  [12800/60000]\n",
      "loss: 0.482520  [25600/60000]\n",
      "loss: 0.487778  [38400/60000]\n",
      "loss: 0.572737  [51200/60000]\n",
      "Epoch 5: \n",
      "loss: 0.452756  [    0/60000]\n",
      "loss: 0.454902  [12800/60000]\n",
      "loss: 0.394922  [25600/60000]\n",
      "loss: 0.417836  [38400/60000]\n",
      "loss: 0.513000  [51200/60000]\n",
      "Done!\n",
      "\n",
      "Using Adam\n",
      "Epoch 1: \n",
      "loss: 2.306220  [    0/60000]\n",
      "loss: 0.645805  [12800/60000]\n",
      "loss: 0.368929  [25600/60000]\n",
      "loss: 0.324541  [38400/60000]\n",
      "loss: 0.349309  [51200/60000]\n",
      "Epoch 2: \n",
      "loss: 0.245158  [    0/60000]\n",
      "loss: 0.220552  [12800/60000]\n",
      "loss: 0.236801  [25600/60000]\n",
      "loss: 0.224641  [38400/60000]\n",
      "loss: 0.258101  [51200/60000]\n",
      "Epoch 3: \n",
      "loss: 0.184554  [    0/60000]\n",
      "loss: 0.174882  [12800/60000]\n",
      "loss: 0.215289  [25600/60000]\n",
      "loss: 0.172905  [38400/60000]\n",
      "loss: 0.218210  [51200/60000]\n",
      "Epoch 4: \n",
      "loss: 0.149965  [    0/60000]\n",
      "loss: 0.155200  [12800/60000]\n",
      "loss: 0.212724  [25600/60000]\n",
      "loss: 0.149689  [38400/60000]\n",
      "loss: 0.189368  [51200/60000]\n",
      "Epoch 5: \n",
      "loss: 0.126997  [    0/60000]\n",
      "loss: 0.141101  [12800/60000]\n",
      "loss: 0.193858  [25600/60000]\n",
      "loss: 0.133589  [38400/60000]\n",
      "loss: 0.174824  [51200/60000]\n",
      "Done!\n",
      "\n",
      "Using RMSprop\n",
      "Epoch 1: \n",
      "loss: 2.306220  [    0/60000]\n",
      "loss: 0.282345  [12800/60000]\n",
      "loss: 0.273300  [25600/60000]\n",
      "loss: 0.253990  [38400/60000]\n",
      "loss: 0.259309  [51200/60000]\n",
      "Epoch 2: \n",
      "loss: 0.238162  [    0/60000]\n",
      "loss: 0.161900  [12800/60000]\n",
      "loss: 0.180167  [25600/60000]\n",
      "loss: 0.235294  [38400/60000]\n",
      "loss: 0.254971  [51200/60000]\n",
      "Epoch 3: \n",
      "loss: 0.105075  [    0/60000]\n",
      "loss: 0.135303  [12800/60000]\n",
      "loss: 0.115821  [25600/60000]\n",
      "loss: 0.198116  [38400/60000]\n",
      "loss: 0.227887  [51200/60000]\n",
      "Epoch 4: \n",
      "loss: 0.063159  [    0/60000]\n",
      "loss: 0.127755  [12800/60000]\n",
      "loss: 0.104780  [25600/60000]\n",
      "loss: 0.155473  [38400/60000]\n",
      "loss: 0.272998  [51200/60000]\n",
      "Epoch 5: \n",
      "loss: 0.050805  [    0/60000]\n",
      "loss: 0.119655  [12800/60000]\n",
      "loss: 0.106092  [25600/60000]\n",
      "loss: 0.168187  [38400/60000]\n",
      "loss: 0.225244  [51200/60000]\n",
      "Done!\n",
      "\n"
     ]
    }
   ],
   "source": [
    "his = [[] for _ in range(num_opts)]\n",
    "for i in range(num_opts):\n",
    "    print(f\"Using {optimizers[i].__name__}\")\n",
    "    for t in range(epochs):\n",
    "        print(f\"Epoch {t+1}: \")\n",
    "        \n",
    "        loss = train(\n",
    "            train_dataloader,\n",
    "            models[i],\n",
    "            loss_fn,\n",
    "            optimizers[i](models[i].parameters(), lr=lrs[i]))\n",
    "\n",
    "        his[i].append(loss)\n",
    "\n",
    "    print(\"Done!\\n\")"
   ]
  },
  {
   "cell_type": "code",
   "execution_count": 11,
   "metadata": {},
   "outputs": [],
   "source": [
    "for i in range(num_opts):\n",
    "    his[i] = torch.tensor(his[i]).reshape(-1)"
   ]
  },
  {
   "cell_type": "markdown",
   "metadata": {},
   "source": [
    "## Using L2O Optimizer"
   ]
  },
  {
   "cell_type": "code",
   "execution_count": 12,
   "metadata": {},
   "outputs": [],
   "source": [
    "from models.l2o_optimizer import lstm_l2o_optimizer   "
   ]
  },
  {
   "cell_type": "code",
   "execution_count": 13,
   "metadata": {},
   "outputs": [
    {
     "data": {
      "text/plain": [
       "lstm_l2o_optimizer(\n",
       "  (LSTM): LSTM(1, 24)\n",
       "  (linear): Linear(in_features=24, out_features=1, bias=True)\n",
       ")"
      ]
     },
     "execution_count": 13,
     "metadata": {},
     "output_type": "execute_result"
    }
   ],
   "source": [
    "l2o_optimizer = lstm_l2o_optimizer().to(device)\n",
    "l2o_optimizer.load_state_dict(torch.load(\"trained_model/l2o_optimizer.pth\"))\n",
    "l2o_optimizer.eval()"
   ]
  },
  {
   "cell_type": "code",
   "execution_count": 14,
   "metadata": {},
   "outputs": [],
   "source": [
    "def init_hidden(model):\n",
    "    # Initializes a hidden state dictionary for every parameter value in the model.\n",
    "    h = {}\n",
    "\n",
    "    for m_key in model._modules:\n",
    "        modules = model._modules[m_key]\n",
    "        h_module = {}\n",
    "        for p_key in modules._parameters:\n",
    "            h_module[p_key] = None\n",
    "        h[m_key] = h_module\n",
    "    \n",
    "    return h"
   ]
  },
  {
   "cell_type": "code",
   "execution_count": 15,
   "metadata": {},
   "outputs": [],
   "source": [
    "def update_weights(model, update_fn, hidden):\n",
    "    with torch.no_grad():\n",
    "        for m_key in model._modules:\n",
    "            m1 = model._modules[m_key]\n",
    "            h_module = hidden[m_key]\n",
    "            for p_key in m1._parameters:\n",
    "                \n",
    "                grad_in = m1._parameters[p_key].grad.reshape(1, -1, 1)\n",
    "\n",
    "                update, h_module[p_key] = update_fn(grad_in, h_module[p_key])        \n",
    "                update = update.reshape(m1._parameters[p_key].shape)\n",
    "                \n",
    "                m1._parameters[p_key] -= update "
   ]
  },
  {
   "cell_type": "code",
   "execution_count": 16,
   "metadata": {},
   "outputs": [],
   "source": [
    "def zero_gradients(model):\n",
    "    for m_key in model._modules:\n",
    "        m1 = model._modules[m_key]\n",
    "        for p_key in m1._parameters:\n",
    "            # Shape for Batch input: (1, Num, 1)\n",
    "            # Shape for Hidden State: (1, Num, 24)\n",
    "            \n",
    "            if m1._parameters[p_key].grad is not None:\n",
    "                m1._parameters[p_key].grad.zero_()"
   ]
  },
  {
   "cell_type": "code",
   "execution_count": 17,
   "metadata": {},
   "outputs": [],
   "source": [
    "def train_with_l2o(dataloader, model, loss_fn, l2o_optimizer):\n",
    "    h = init_hidden(model)\n",
    "    size = len(dataloader.dataset)\n",
    "    history = []\n",
    "    model.train()\n",
    "    for batch, (X, y) in enumerate(train_dataloader):\n",
    "        # Preprocessing\n",
    "        X = X.reshape(-1, 28 * 28)\n",
    "        X, y = X.to(device), y.to(device)\n",
    "\n",
    "        # Forward Pass\n",
    "        pred = model(X)\n",
    "        loss = loss_fn(pred, y)\n",
    "\n",
    "        # Backprop\n",
    "        zero_gradients(model)\n",
    "        loss.backward()\n",
    "        update_weights(model, l2o_optimizer, h)\n",
    "\n",
    "        loss = loss.item()\n",
    "\n",
    "        if batch % output_step == 0:\n",
    "            current = batch * len(X)\n",
    "            print(f\"loss: {loss:>7f}  [{current:>5d}/{size:>5d}]\")\n",
    "            \n",
    "\n",
    "        if batch % history_step == 0:\n",
    "            history.append(loss)\n",
    "\n",
    "    return history"
   ]
  },
  {
   "cell_type": "code",
   "execution_count": 18,
   "metadata": {},
   "outputs": [
    {
     "name": "stdout",
     "output_type": "stream",
     "text": [
      "Epoch: 1\n",
      "loss: 2.306220  [    0/60000]\n",
      "loss: 1.065172  [12800/60000]\n",
      "loss: 0.428117  [25600/60000]\n",
      "loss: 0.379430  [38400/60000]\n",
      "loss: 0.454525  [51200/60000]\n",
      "Epoch: 2\n",
      "loss: 0.285010  [    0/60000]\n",
      "loss: 0.245924  [12800/60000]\n",
      "loss: 0.255019  [25600/60000]\n",
      "loss: 0.269696  [38400/60000]\n",
      "loss: 0.353664  [51200/60000]\n",
      "Epoch: 3\n",
      "loss: 0.188400  [    0/60000]\n",
      "loss: 0.177503  [12800/60000]\n",
      "loss: 0.211812  [25600/60000]\n",
      "loss: 0.218001  [38400/60000]\n",
      "loss: 0.293230  [51200/60000]\n",
      "Epoch: 4\n",
      "loss: 0.150007  [    0/60000]\n",
      "loss: 0.142936  [12800/60000]\n",
      "loss: 0.179414  [25600/60000]\n",
      "loss: 0.195924  [38400/60000]\n",
      "loss: 0.248379  [51200/60000]\n",
      "Epoch: 5\n",
      "loss: 0.126670  [    0/60000]\n",
      "loss: 0.126375  [12800/60000]\n",
      "loss: 0.146927  [25600/60000]\n",
      "loss: 0.172535  [38400/60000]\n",
      "loss: 0.218157  [51200/60000]\n"
     ]
    }
   ],
   "source": [
    "l2o_hist = []\n",
    "for i in range(epochs):\n",
    "    print(f\"Epoch: {i + 1}\")\n",
    "    loss = train_with_l2o(\n",
    "        train_dataloader,\n",
    "        model_for_l2o,\n",
    "        loss_fn,\n",
    "        l2o_optimizer)\n",
    "\n",
    "    l2o_hist.append(loss)\n"
   ]
  },
  {
   "cell_type": "markdown",
   "metadata": {},
   "source": [
    "### Plotting Results"
   ]
  },
  {
   "cell_type": "code",
   "execution_count": 19,
   "metadata": {},
   "outputs": [],
   "source": [
    "from matplotlib import pyplot as plt"
   ]
  },
  {
   "cell_type": "code",
   "execution_count": 28,
   "metadata": {},
   "outputs": [],
   "source": [
    "l2o_hist = torch.tensor(l2o_hist).reshape(-1)\n",
    "his.append(l2o_hist)"
   ]
  },
  {
   "cell_type": "code",
   "execution_count": 21,
   "metadata": {},
   "outputs": [],
   "source": [
    "names = [optimizers[i].__name__ for i in range(num_opts)]\n",
    "names.append(\"L2O-LSTM\")"
   ]
  },
  {
   "cell_type": "code",
   "execution_count": 31,
   "metadata": {},
   "outputs": [
    {
     "data": {
      "image/png": "[encoded data removed]",
      "text/plain": [
       "<Figure size 432x288 with 1 Axes>"
      ]
     },
     "metadata": {
      "needs_background": "light"
     },
     "output_type": "display_data"
    }
   ],
   "source": [
    "plt.xlabel('Training Steps')\n",
    "plt.ylabel('Training Loss')\n",
    "plt.title('Comparing Training using Different Optimizers')\n",
    "for i in range(num_opts + 1):\n",
    "    plt.plot(his[i], label=names[i])\n",
    "\n",
    "plt.legend(loc=\"upper left\")\n",
    "plt.show()"
   ]
  },
  {
   "cell_type": "code",
   "execution_count": null,
   "metadata": {},
   "outputs": [],
   "source": []
  }
 ],
 "metadata": {
  "kernelspec": {
   "display_name": "Python 3.10.4 64-bit",
   "language": "python",
   "name": "python3"
  },
  "language_info": {
   "codemirror_mode": {
    "name": "ipython",
    "version": 3
   },
   "file_extension": ".py",
   "mimetype": "text/x-python",
   "name": "python",
   "nbconvert_exporter": "python",
   "pygments_lexer": "ipython3",
   "version": "3.10.4"
  },
  "orig_nbformat": 4,
  "vscode": {
   "interpreter": {
    "hash": "369f2c481f4da34e4445cda3fffd2e751bd1c4d706f27375911949ba6bb62e1c"
   }
  }
 },
 "nbformat": 4,
 "nbformat_minor": 2
}
