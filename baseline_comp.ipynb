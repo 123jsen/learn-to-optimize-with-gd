{
 "cells": [
  {
   "cell_type": "code",
   "execution_count": 1,
   "metadata": {},
   "outputs": [
    {
     "name": "stdout",
     "output_type": "stream",
     "text": [
      "using cuda\n"
     ]
    }
   ],
   "source": [
    "import torch\n",
    "from torch import nn\n",
    "from torch.utils.data import DataLoader\n",
    "from torchvision import datasets\n",
    "from torchvision.transforms import ToTensor\n",
    "\n",
    "from models.class_network import deep_net\n",
    "\n",
    "device = \"cuda\" if torch.cuda.is_available() else \"cpu\"\n",
    "print(f\"using {device}\")"
   ]
  },
  {
   "cell_type": "code",
   "execution_count": 2,
   "metadata": {},
   "outputs": [],
   "source": [
    "# Download training data from open datasets.\n",
    "training_data = datasets.MNIST(\n",
    "    root=\"data\",\n",
    "    train=True,\n",
    "    download=True,\n",
    "    transform=ToTensor(),\n",
    ")\n",
    "\n",
    "# Download test data from open datasets.\n",
    "test_data = datasets.MNIST(\n",
    "    root=\"data\",\n",
    "    train=False,\n",
    "    download=True,\n",
    "    transform=ToTensor(),\n",
    ")"
   ]
  },
  {
   "cell_type": "code",
   "execution_count": 3,
   "metadata": {},
   "outputs": [],
   "source": [
    "# Constants\n",
    "\n",
    "history_step = 15\n",
    "output_step = 100"
   ]
  },
  {
   "cell_type": "code",
   "execution_count": 4,
   "metadata": {},
   "outputs": [],
   "source": [
    "# Hyperparameters\n",
    "\n",
    "batch_size = 128\n",
    "epochs = 5"
   ]
  },
  {
   "cell_type": "code",
   "execution_count": 5,
   "metadata": {},
   "outputs": [
    {
     "name": "stdout",
     "output_type": "stream",
     "text": [
      "Number of batches: 469\n"
     ]
    }
   ],
   "source": [
    "# Create data loaders.\n",
    "train_dataloader = DataLoader(training_data, batch_size=batch_size)\n",
    "test_dataloader = DataLoader(test_data, batch_size=batch_size)\n",
    "\n",
    "print(f\"Number of batches: {len(train_dataloader)}\")"
   ]
  },
  {
   "cell_type": "code",
   "execution_count": 6,
   "metadata": {},
   "outputs": [],
   "source": [
    "optimizers = [\n",
    "    torch.optim.SGD,\n",
    "    torch.optim.Adam,\n",
    "    torch.optim.RMSprop\n",
    "]\n",
    "\n",
    "lrs = [0.01, 0.001, 0.01]\n",
    "\n",
    "num_opts = len(optimizers)"
   ]
  },
  {
   "cell_type": "code",
   "execution_count": 7,
   "metadata": {},
   "outputs": [],
   "source": [
    "from copy import deepcopy\n",
    "model = deep_net(28*28, 10).to(device)\n",
    "models = [deepcopy(model) for _ in range(num_opts)]"
   ]
  },
  {
   "cell_type": "code",
   "execution_count": 8,
   "metadata": {},
   "outputs": [],
   "source": [
    "loss_fn = nn.CrossEntropyLoss()"
   ]
  },
  {
   "cell_type": "code",
   "execution_count": 9,
   "metadata": {},
   "outputs": [],
   "source": [
    "def train(dataloader, model, loss_fn, optimizer):\n",
    "    size = len(dataloader.dataset)\n",
    "    history = []\n",
    "    model.train()\n",
    "    for batch, (X, y) in enumerate(dataloader):\n",
    "        X, y = X.to(device), y.to(device)\n",
    "        X = X.reshape(-1, 28 * 28)\n",
    "\n",
    "        # Compute prediction error\n",
    "        pred = model(X)\n",
    "        loss = loss_fn(pred, y)\n",
    "\n",
    "        # Backpropagation\n",
    "        optimizer.zero_grad()\n",
    "        loss.backward()\n",
    "        optimizer.step()\n",
    "\n",
    "        loss = loss.item()\n",
    "\n",
    "        if batch % output_step == 0:\n",
    "            current = batch * len(X)\n",
    "            print(f\"loss: {loss:>7f}  [{current:>5d}/{size:>5d}]\")\n",
    "            \n",
    "\n",
    "        if batch % history_step == 0:\n",
    "            history.append(loss)\n",
    "            \n",
    "    return history"
   ]
  },
  {
   "cell_type": "code",
   "execution_count": 10,
   "metadata": {},
   "outputs": [
    {
     "name": "stdout",
     "output_type": "stream",
     "text": [
      "Using SGD\n",
      "Epoch 1: \n",
      "loss: 2.297186  [    0/60000]\n",
      "loss: 2.268377  [12800/60000]\n",
      "loss: 2.235765  [25600/60000]\n",
      "loss: 2.189749  [38400/60000]\n",
      "loss: 2.092800  [51200/60000]\n",
      "Epoch 2: \n",
      "loss: 1.951132  [    0/60000]\n",
      "loss: 1.771667  [12800/60000]\n",
      "loss: 1.445658  [25600/60000]\n",
      "loss: 1.200098  [38400/60000]\n",
      "loss: 1.046018  [51200/60000]\n",
      "Epoch 3: \n",
      "loss: 0.877496  [    0/60000]\n",
      "loss: 0.813331  [12800/60000]\n",
      "loss: 0.652193  [25600/60000]\n",
      "loss: 0.638175  [38400/60000]\n",
      "loss: 0.672611  [51200/60000]\n",
      "Epoch 4: \n",
      "loss: 0.568835  [    0/60000]\n",
      "loss: 0.545312  [12800/60000]\n",
      "loss: 0.452146  [25600/60000]\n",
      "loss: 0.485606  [38400/60000]\n",
      "loss: 0.546706  [51200/60000]\n",
      "Epoch 5: \n",
      "loss: 0.440137  [    0/60000]\n",
      "loss: 0.438771  [12800/60000]\n",
      "loss: 0.376767  [25600/60000]\n",
      "loss: 0.424200  [38400/60000]\n",
      "loss: 0.490906  [51200/60000]\n",
      "Done!\n",
      "\n",
      "Using Adam\n",
      "Epoch 1: \n",
      "loss: 2.297186  [    0/60000]\n",
      "loss: 0.621112  [12800/60000]\n",
      "loss: 0.367349  [25600/60000]\n",
      "loss: 0.326656  [38400/60000]\n",
      "loss: 0.370011  [51200/60000]\n",
      "Epoch 2: \n",
      "loss: 0.236673  [    0/60000]\n",
      "loss: 0.207081  [12800/60000]\n",
      "loss: 0.250097  [25600/60000]\n",
      "loss: 0.223706  [38400/60000]\n",
      "loss: 0.261402  [51200/60000]\n",
      "Epoch 3: \n",
      "loss: 0.156844  [    0/60000]\n",
      "loss: 0.136795  [12800/60000]\n",
      "loss: 0.218360  [25600/60000]\n",
      "loss: 0.168178  [38400/60000]\n",
      "loss: 0.210717  [51200/60000]\n",
      "Epoch 4: \n",
      "loss: 0.121982  [    0/60000]\n",
      "loss: 0.102138  [12800/60000]\n",
      "loss: 0.188405  [25600/60000]\n",
      "loss: 0.141502  [38400/60000]\n",
      "loss: 0.189103  [51200/60000]\n",
      "Epoch 5: \n",
      "loss: 0.098511  [    0/60000]\n",
      "loss: 0.083577  [12800/60000]\n",
      "loss: 0.167304  [25600/60000]\n",
      "loss: 0.124173  [38400/60000]\n",
      "loss: 0.174735  [51200/60000]\n",
      "Done!\n",
      "\n",
      "Using RMSprop\n",
      "Epoch 1: \n",
      "loss: 2.297186  [    0/60000]\n",
      "loss: 0.334687  [12800/60000]\n",
      "loss: 0.245384  [25600/60000]\n",
      "loss: 0.256838  [38400/60000]\n",
      "loss: 0.332094  [51200/60000]\n",
      "Epoch 2: \n",
      "loss: 0.384881  [    0/60000]\n",
      "loss: 0.161243  [12800/60000]\n",
      "loss: 0.207816  [25600/60000]\n",
      "loss: 0.192765  [38400/60000]\n",
      "loss: 0.250866  [51200/60000]\n",
      "Epoch 3: \n",
      "loss: 0.223566  [    0/60000]\n",
      "loss: 0.191738  [12800/60000]\n",
      "loss: 0.156005  [25600/60000]\n",
      "loss: 0.182972  [38400/60000]\n",
      "loss: 0.264680  [51200/60000]\n",
      "Epoch 4: \n",
      "loss: 0.110653  [    0/60000]\n",
      "loss: 0.142475  [12800/60000]\n",
      "loss: 0.114456  [25600/60000]\n",
      "loss: 0.172532  [38400/60000]\n",
      "loss: 0.303755  [51200/60000]\n",
      "Epoch 5: \n",
      "loss: 0.307474  [    0/60000]\n",
      "loss: 0.160481  [12800/60000]\n",
      "loss: 0.103730  [25600/60000]\n",
      "loss: 0.138160  [38400/60000]\n",
      "loss: 0.262278  [51200/60000]\n",
      "Done!\n",
      "\n"
     ]
    }
   ],
   "source": [
    "his = [[] for _ in range(num_opts)]\n",
    "for i in range(num_opts):\n",
    "    print(f\"Using {optimizers[i].__name__}\")\n",
    "    for t in range(epochs):\n",
    "        print(f\"Epoch {t+1}: \")\n",
    "        \n",
    "        loss = train(\n",
    "            train_dataloader,\n",
    "            models[i],\n",
    "            loss_fn,\n",
    "            optimizers[i](models[i].parameters(), lr=lrs[i]))\n",
    "\n",
    "        his[i].append(loss)\n",
    "\n",
    "    print(\"Done!\\n\")"
   ]
  },
  {
   "cell_type": "code",
   "execution_count": 11,
   "metadata": {},
   "outputs": [],
   "source": [
    "for i in range(num_opts):\n",
    "    his[i] = torch.tensor(his[i]).reshape(-1)"
   ]
  },
  {
   "cell_type": "markdown",
   "metadata": {},
   "source": [
    "### Plotting Results"
   ]
  },
  {
   "cell_type": "code",
   "execution_count": 12,
   "metadata": {},
   "outputs": [],
   "source": [
    "from matplotlib import pyplot as plt"
   ]
  },
  {
   "cell_type": "code",
   "execution_count": 13,
   "metadata": {},
   "outputs": [
    {
     "data": {
      "image/png": "[encoded data removed]",
      "text/plain": [
       "<Figure size 432x288 with 1 Axes>"
      ]
     },
     "metadata": {
      "needs_background": "light"
     },
     "output_type": "display_data"
    }
   ],
   "source": [
    "plt.xlabel('Training Steps')\n",
    "plt.ylabel('Training Loss')\n",
    "plt.title('Comparing Training using Different Optimizers')\n",
    "for i in range(num_opts):\n",
    "    plt.plot(his[i], label=optimizers[i].__name__)\n",
    "\n",
    "plt.legend(loc=\"upper left\")\n",
    "plt.show()"
   ]
  },
  {
   "cell_type": "code",
   "execution_count": null,
   "metadata": {},
   "outputs": [],
   "source": []
  }
 ],
 "metadata": {
  "kernelspec": {
   "display_name": "Python 3.10.4 64-bit",
   "language": "python",
   "name": "python3"
  },
  "language_info": {
   "codemirror_mode": {
    "name": "ipython",
    "version": 3
   },
   "file_extension": ".py",
   "mimetype": "text/x-python",
   "name": "python",
   "nbconvert_exporter": "python",
   "pygments_lexer": "ipython3",
   "version": "3.10.4"
  },
  "orig_nbformat": 4,
  "vscode": {
   "interpreter": {
    "hash": "369f2c481f4da34e4445cda3fffd2e751bd1c4d706f27375911949ba6bb62e1c"
   }
  }
 },
 "nbformat": 4,
 "nbformat_minor": 2
}
